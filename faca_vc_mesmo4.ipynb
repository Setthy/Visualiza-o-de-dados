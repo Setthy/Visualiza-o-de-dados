{
 "cells": [
  {
   "cell_type": "code",
   "execution_count": 1,
   "id": "84ca0ffe-d99b-44e1-9a71-f4a1b9135085",
   "metadata": {},
   "outputs": [],
   "source": [
    "# Faça você mesmo!"
   ]
  },
  {
   "cell_type": "code",
   "execution_count": null,
   "id": "03184688-0ea3-4e8c-96d8-569f4c0952b5",
   "metadata": {},
   "outputs": [],
   "source": [
    "# Importando as bibliotecas:\n"
   ]
  }
 ],
 "metadata": {
  "kernelspec": {
   "display_name": "Python 3",
   "language": "python",
   "name": "python3"
  },
  "language_info": {
   "codemirror_mode": {
    "name": "ipython",
    "version": 3
   },
   "file_extension": ".py",
   "mimetype": "text/x-python",
   "name": "python",
   "nbconvert_exporter": "python",
   "pygments_lexer": "ipython3",
   "version": "3.8.8"
  }
 },
 "nbformat": 4,
 "nbformat_minor": 5
}
