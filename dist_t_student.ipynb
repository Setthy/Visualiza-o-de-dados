{
 "cells": [
  {
   "cell_type": "code",
   "execution_count": 1,
   "id": "d873d6c4-8dc8-48b1-b3fb-f3cc6dfba14b",
   "metadata": {},
   "outputs": [],
   "source": [
    "# Distribuição T de Student."
   ]
  },
  {
   "cell_type": "code",
   "execution_count": 5,
   "id": "f00db3f7-bd83-4e05-9a3c-cb269ea75858",
   "metadata": {},
   "outputs": [],
   "source": [
    "# Importando as bibliotécas.\n",
    "\n",
    "from scipy.stats import t"
   ]
  },
  {
   "cell_type": "code",
   "execution_count": 2,
   "id": "85a1972e-7e1e-40c9-99a6-a16e038b791a",
   "metadata": {},
   "outputs": [],
   "source": [
    "# Média de salários dos cientistas de dados = R$ 75,00 por hora, Amostra com 9 funcionários e desvio padrão = 10"
   ]
  },
  {
   "cell_type": "code",
   "execution_count": 7,
   "id": "a24073d3-9810-4c3d-872c-ac5cbe33640b",
   "metadata": {},
   "outputs": [
    {
     "data": {
      "text/plain": [
       "0.9139983540240443"
      ]
     },
     "execution_count": 7,
     "metadata": {},
     "output_type": "execute_result"
    }
   ],
   "source": [
    "# Qual a probabilidade de selecionar um ciêntista de dados e o salário ser menor que R$ 80 por hora?\n",
    "\n",
    "t.cdf(1.5, 8)"
   ]
  },
  {
   "cell_type": "code",
   "execution_count": 8,
   "id": "1a10f14b-400f-4ae6-bad3-1776d3dd910b",
   "metadata": {},
   "outputs": [
    {
     "data": {
      "text/plain": [
       "0.08600164597595565"
      ]
     },
     "execution_count": 8,
     "metadata": {},
     "output_type": "execute_result"
    }
   ],
   "source": [
    "# Qual a probabilidade do salário ser maior que R$ 80?\n",
    "\n",
    "t.sf(1.5, 8)"
   ]
  },
  {
   "cell_type": "code",
   "execution_count": 9,
   "id": "11c75eae-682a-4d36-bec7-20ab09cf5b15",
   "metadata": {},
   "outputs": [
    {
     "data": {
      "text/plain": [
       "0.9999999999999999"
      ]
     },
     "execution_count": 9,
     "metadata": {},
     "output_type": "execute_result"
    }
   ],
   "source": [
    "# Somatório da execução dos dois código acima (Lado esquerdo + lado direito da distribuição)\n",
    "\n",
    "t.cdf(1.5, 8) + t.sf(1.5, 8)"
   ]
  },
  {
   "cell_type": "code",
   "execution_count": null,
   "id": "ada128bb-8cce-4e5a-a1cb-fd7f8ffceb0f",
   "metadata": {},
   "outputs": [],
   "source": []
  }
 ],
 "metadata": {
  "kernelspec": {
   "display_name": "Python 3",
   "language": "python",
   "name": "python3"
  },
  "language_info": {
   "codemirror_mode": {
    "name": "ipython",
    "version": 3
   },
   "file_extension": ".py",
   "mimetype": "text/x-python",
   "name": "python",
   "nbconvert_exporter": "python",
   "pygments_lexer": "ipython3",
   "version": "3.8.8"
  }
 },
 "nbformat": 4,
 "nbformat_minor": 5
}
