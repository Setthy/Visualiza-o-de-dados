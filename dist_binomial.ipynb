{
 "cells": [
  {
   "cell_type": "code",
   "execution_count": 1,
   "id": "610ae041-45e6-458c-bf53-5708071db904",
   "metadata": {},
   "outputs": [],
   "source": [
    "# Distribuição Binomial."
   ]
  },
  {
   "cell_type": "code",
   "execution_count": 2,
   "id": "48f8460e-176b-4f35-937c-3ce0f9e668c7",
   "metadata": {},
   "outputs": [],
   "source": [
    "# Importando as bibliotecas\n",
    "\n",
    "from scipy.stats import binom"
   ]
  },
  {
   "cell_type": "code",
   "execution_count": 3,
   "id": "6c8f9ea1-2479-46ca-bfb8-601219e12455",
   "metadata": {},
   "outputs": [
    {
     "data": {
      "text/plain": [
       "0.3125"
      ]
     },
     "execution_count": 3,
     "metadata": {},
     "output_type": "execute_result"
    }
   ],
   "source": [
    "# Jogar uma moeda 5 vezes, qual a probabilidade de dar cara 3 vezes?\n",
    "# Eventos, experimentos, probabilidades.\n",
    "\n",
    "prob = binom.pmf(3, 5, 0.5)\n",
    "prob"
   ]
  },
  {
   "cell_type": "code",
   "execution_count": 11,
   "id": "290d6391-2781-4519-a740-04b963b7e508",
   "metadata": {},
   "outputs": [
    {
     "data": {
      "text/plain": [
       "1.0000000000000002"
      ]
     },
     "execution_count": 11,
     "metadata": {},
     "output_type": "execute_result"
    }
   ],
   "source": [
    "# Passar por 4 sinais de 4 tempos, qual a probabilidade de pegar sinal verde?\n",
    "# nenhuma, 1, 2, 3 ou 4 vezes seguidas?\n",
    "\n",
    "binom.pmf(0, 4, 0.25) + binom.pmf(1, 4, 0.25) + binom.pmf(2, 4, 0.25) + binom.pmf(3, 4, 0.25) + binom.pmf(4, 4, 0.25)"
   ]
  },
  {
   "cell_type": "code",
   "execution_count": 7,
   "id": "66fbff4d-7967-4981-9b2b-4f54f498daff",
   "metadata": {},
   "outputs": [
    {
     "data": {
      "text/plain": [
       "0.0625"
      ]
     },
     "execution_count": 7,
     "metadata": {},
     "output_type": "execute_result"
    }
   ],
   "source": [
    "# E se forem sinais de 2 tempos?\n",
    "\n",
    "binom.pmf(4, 4, 0.5)"
   ]
  },
  {
   "cell_type": "code",
   "execution_count": 8,
   "id": "f32dae0a-303d-43f4-8123-aaed73e1e968",
   "metadata": {},
   "outputs": [
    {
     "data": {
      "text/plain": [
       "1.0"
      ]
     },
     "execution_count": 8,
     "metadata": {},
     "output_type": "execute_result"
    }
   ],
   "source": [
    "# Probabilidade acumulativa.\n",
    "\n",
    "binom.cdf(4, 4, 0.25)"
   ]
  },
  {
   "cell_type": "code",
   "execution_count": 13,
   "id": "36bb262c-32a6-4f3d-9ac0-e26980844827",
   "metadata": {},
   "outputs": [
    {
     "data": {
      "text/plain": [
       "0.011471271514892573"
      ]
     },
     "execution_count": 13,
     "metadata": {},
     "output_type": "execute_result"
    }
   ],
   "source": [
    "# Concurso com 12 questões, qual a probabilidade de acertar 7 questões considerando que cada questão tem 4 alternativas?\n",
    "\n",
    "#binom.pmf(7, 12, 0.25) * 100\n",
    "binom.pmf(7, 12, 0.25)"
   ]
  },
  {
   "cell_type": "code",
   "execution_count": 10,
   "id": "fa36b9f7-0022-4e76-9eee-59bf208e68b8",
   "metadata": {},
   "outputs": [
    {
     "data": {
      "text/plain": [
       "5.960464477539072e-06"
      ]
     },
     "execution_count": 10,
     "metadata": {},
     "output_type": "execute_result"
    }
   ],
   "source": [
    "# Probabilidade de acertar as 12 questões?\n",
    "\n",
    "binom.pmf(12, 12, 0.25) * 100"
   ]
  },
  {
   "cell_type": "code",
   "execution_count": null,
   "id": "29b050db-7049-47d1-af43-eb1df01a9b10",
   "metadata": {},
   "outputs": [],
   "source": []
  }
 ],
 "metadata": {
  "kernelspec": {
   "display_name": "Python 3",
   "language": "python",
   "name": "python3"
  },
  "language_info": {
   "codemirror_mode": {
    "name": "ipython",
    "version": 3
   },
   "file_extension": ".py",
   "mimetype": "text/x-python",
   "name": "python",
   "nbconvert_exporter": "python",
   "pygments_lexer": "ipython3",
   "version": "3.8.8"
  }
 },
 "nbformat": 4,
 "nbformat_minor": 5
}
