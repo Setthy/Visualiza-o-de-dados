{
 "cells": [
  {
   "cell_type": "code",
   "execution_count": 1,
   "id": "077f9bfa-52a1-4131-b637-88337885d611",
   "metadata": {},
   "outputs": [],
   "source": [
    "# Distribuição de Poisson."
   ]
  },
  {
   "cell_type": "code",
   "execution_count": 2,
   "id": "25a8d4bc-afda-4639-aec9-1b9ff0d1d3b1",
   "metadata": {},
   "outputs": [],
   "source": [
    "# IMportando bibliotecas.\n",
    "\n",
    "from scipy.stats import poisson"
   ]
  },
  {
   "cell_type": "code",
   "execution_count": 3,
   "id": "90318a2e-8f78-4191-91c4-fab93756d97b",
   "metadata": {},
   "outputs": [],
   "source": [
    "# Média de acidentes de carro é 2 por dia!"
   ]
  },
  {
   "cell_type": "code",
   "execution_count": 4,
   "id": "bfaf9d80-f810-4b77-a079-81d153737809",
   "metadata": {},
   "outputs": [
    {
     "data": {
      "text/plain": [
       "0.18044704431548356"
      ]
     },
     "execution_count": 4,
     "metadata": {},
     "output_type": "execute_result"
    }
   ],
   "source": [
    "# Qual a probabilidade de ocorrorem 3 acidentes no dia?\n",
    "\n",
    "poisson.pmf(3, 2)"
   ]
  },
  {
   "cell_type": "code",
   "execution_count": 5,
   "id": "83715246-6127-426d-bba4-0b15ea13bd5f",
   "metadata": {},
   "outputs": [
    {
     "data": {
      "text/plain": [
       "0.857123460498547"
      ]
     },
     "execution_count": 5,
     "metadata": {},
     "output_type": "execute_result"
    }
   ],
   "source": [
    "# Qual a probabilidade de ocorrerem 3 ou menos acidentes por dia?\n",
    "\n",
    "poisson.cdf(3, 2)"
   ]
  },
  {
   "cell_type": "code",
   "execution_count": 6,
   "id": "7d3c6b63-d80f-4289-bee9-48fa609e8f2b",
   "metadata": {},
   "outputs": [
    {
     "data": {
      "text/plain": [
       "0.14287653950145296"
      ]
     },
     "execution_count": 6,
     "metadata": {},
     "output_type": "execute_result"
    }
   ],
   "source": [
    "# Qual a probabilidade de ocorrerem mais de 3 acidentes no dia?\n",
    "\n",
    "poisson.sf(3, 2)"
   ]
  },
  {
   "cell_type": "code",
   "execution_count": 7,
   "id": "7df38f87-d6ee-4c38-895d-bfd9f2a01b2d",
   "metadata": {},
   "outputs": [
    {
     "data": {
      "text/plain": [
       "1.0"
      ]
     },
     "execution_count": 7,
     "metadata": {},
     "output_type": "execute_result"
    }
   ],
   "source": [
    "poisson.cdf(3, 2) + poisson.sf(3, 2)"
   ]
  },
  {
   "cell_type": "code",
   "execution_count": null,
   "id": "9b14be53-b0be-4ef8-a791-6e6afef6f6af",
   "metadata": {},
   "outputs": [],
   "source": []
  }
 ],
 "metadata": {
  "kernelspec": {
   "display_name": "Python 3",
   "language": "python",
   "name": "python3"
  },
  "language_info": {
   "codemirror_mode": {
    "name": "ipython",
    "version": 3
   },
   "file_extension": ".py",
   "mimetype": "text/x-python",
   "name": "python",
   "nbconvert_exporter": "python",
   "pygments_lexer": "ipython3",
   "version": "3.8.8"
  }
 },
 "nbformat": 4,
 "nbformat_minor": 5
}
