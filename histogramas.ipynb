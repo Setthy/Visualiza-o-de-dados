{
 "cells": [
  {
   "cell_type": "code",
   "execution_count": 1,
   "id": "645574bc-1243-411d-90bc-d175f559cfb2",
   "metadata": {},
   "outputs": [],
   "source": [
    "# Histogramas!"
   ]
  },
  {
   "cell_type": "code",
   "execution_count": 2,
   "id": "ddab0edd-0586-4824-b23b-5a008394b173",
   "metadata": {},
   "outputs": [],
   "source": [
    "# Importar bibliotecas!"
   ]
  },
  {
   "cell_type": "code",
   "execution_count": 3,
   "id": "1a23a687-36c5-483c-b4a5-757e42d3b79a",
   "metadata": {},
   "outputs": [],
   "source": [
    "import pandas as pd\n",
    "import numpy as np\n",
    "import matplotlib.pyplot as plt"
   ]
  },
  {
   "cell_type": "code",
   "execution_count": 4,
   "id": "e69ae309-03f8-4df2-8477-dc24c2411478",
   "metadata": {},
   "outputs": [],
   "source": [
    "# Carregar base de dados!"
   ]
  },
  {
   "cell_type": "code",
   "execution_count": 5,
   "id": "c4287073-9345-42ac-828b-d888b24a4432",
   "metadata": {},
   "outputs": [
    {
     "data": {
      "text/plain": [
       "(31, 3)"
      ]
     },
     "execution_count": 5,
     "metadata": {},
     "output_type": "execute_result"
    }
   ],
   "source": [
    "base =pd.read_csv('trees.csv')\n",
    "base.shape"
   ]
  },
  {
   "cell_type": "code",
   "execution_count": 6,
   "id": "853b0d58-3019-4126-a99f-165f573b0296",
   "metadata": {},
   "outputs": [],
   "source": [
    "# Dados!"
   ]
  },
  {
   "cell_type": "code",
   "execution_count": 7,
   "id": "190035ed-b2b3-48b1-b636-066d862ec479",
   "metadata": {},
   "outputs": [
    {
     "data": {
      "text/html": [
       "<div>\n",
       "<style scoped>\n",
       "    .dataframe tbody tr th:only-of-type {\n",
       "        vertical-align: middle;\n",
       "    }\n",
       "\n",
       "    .dataframe tbody tr th {\n",
       "        vertical-align: top;\n",
       "    }\n",
       "\n",
       "    .dataframe thead th {\n",
       "        text-align: right;\n",
       "    }\n",
       "</style>\n",
       "<table border=\"1\" class=\"dataframe\">\n",
       "  <thead>\n",
       "    <tr style=\"text-align: right;\">\n",
       "      <th></th>\n",
       "      <th>Girth</th>\n",
       "      <th>Height</th>\n",
       "      <th>Volume</th>\n",
       "    </tr>\n",
       "  </thead>\n",
       "  <tbody>\n",
       "    <tr>\n",
       "      <th>0</th>\n",
       "      <td>8.3</td>\n",
       "      <td>70</td>\n",
       "      <td>10.3</td>\n",
       "    </tr>\n",
       "    <tr>\n",
       "      <th>1</th>\n",
       "      <td>8.6</td>\n",
       "      <td>65</td>\n",
       "      <td>10.3</td>\n",
       "    </tr>\n",
       "    <tr>\n",
       "      <th>2</th>\n",
       "      <td>8.8</td>\n",
       "      <td>63</td>\n",
       "      <td>10.2</td>\n",
       "    </tr>\n",
       "    <tr>\n",
       "      <th>3</th>\n",
       "      <td>10.5</td>\n",
       "      <td>72</td>\n",
       "      <td>16.4</td>\n",
       "    </tr>\n",
       "    <tr>\n",
       "      <th>4</th>\n",
       "      <td>10.7</td>\n",
       "      <td>81</td>\n",
       "      <td>18.8</td>\n",
       "    </tr>\n",
       "  </tbody>\n",
       "</table>\n",
       "</div>"
      ],
      "text/plain": [
       "   Girth  Height  Volume\n",
       "0    8.3      70    10.3\n",
       "1    8.6      65    10.3\n",
       "2    8.8      63    10.2\n",
       "3   10.5      72    16.4\n",
       "4   10.7      81    18.8"
      ]
     },
     "execution_count": 7,
     "metadata": {},
     "output_type": "execute_result"
    }
   ],
   "source": [
    "base.head()"
   ]
  },
  {
   "cell_type": "code",
   "execution_count": 9,
   "id": "52697c0c-1929-4fe8-999a-fdb02c612536",
   "metadata": {},
   "outputs": [],
   "source": [
    "# Criação do histograma, considerando somente o segundo atributo da base de dados e com as duas divisões!\n",
    "# A variável 'h' armazena as faixas de valores de height!"
   ]
  },
  {
   "cell_type": "code",
   "execution_count": 10,
   "id": "35238397-77b0-4ac1-bc0a-9ca7b43d650b",
   "metadata": {},
   "outputs": [
    {
     "data": {
      "text/plain": [
       "(array([2, 0, 0, 0, 0, 1], dtype=int64),\n",
       " array([ 8.3       , 18.58333333, 28.86666667, 39.15      , 49.43333333,\n",
       "        59.71666667, 70.        ]))"
      ]
     },
     "execution_count": 10,
     "metadata": {},
     "output_type": "execute_result"
    }
   ],
   "source": [
    "h = np.histogram(base.iloc[:1], bins = 6)\n",
    "h"
   ]
  },
  {
   "cell_type": "code",
   "execution_count": 11,
   "id": "8d7b7175-0943-4a52-a8cd-d220dd0c3a9f",
   "metadata": {},
   "outputs": [],
   "source": [
    "# Visualização do histograma com 6 divisões!"
   ]
  },
  {
   "cell_type": "code",
   "execution_count": 14,
   "id": "82310104-90e8-45cd-b748-14d13f718cf7",
   "metadata": {},
   "outputs": [
    {
     "data": {
      "text/plain": [
       "Text(0.5, 0, 'Altura')"
      ]
     },
     "execution_count": 14,
     "metadata": {},
     "output_type": "execute_result"
    },
    {
     "data": {
      "image/png": "[encoded data removed]",
      "text/plain": [
       "<Figure size 432x288 with 1 Axes>"
      ]
     },
     "metadata": {
      "needs_background": "light"
     },
     "output_type": "display_data"
    }
   ],
   "source": [
    "plt.hist(base.iloc[:,1], bins = 10)\n",
    "plt.title('Arvores')\n",
    "plt.ylabel('Frequência')\n",
    "plt.xlabel('Altura')"
   ]
  },
  {
   "cell_type": "code",
   "execution_count": null,
   "id": "04607e92-397d-4a34-b748-a33e23748654",
   "metadata": {},
   "outputs": [],
   "source": []
  }
 ],
 "metadata": {
  "kernelspec": {
   "display_name": "Python 3",
   "language": "python",
   "name": "python3"
  },
  "language_info": {
   "codemirror_mode": {
    "name": "ipython",
    "version": 3
   },
   "file_extension": ".py",
   "mimetype": "text/x-python",
   "name": "python",
   "nbconvert_exporter": "python",
   "pygments_lexer": "ipython3",
   "version": "3.8.8"
  }
 },
 "nbformat": 4,
 "nbformat_minor": 5
}
