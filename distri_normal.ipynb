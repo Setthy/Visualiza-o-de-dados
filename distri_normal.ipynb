{
 "cells": [
  {
   "cell_type": "code",
   "execution_count": 1,
   "id": "7211458b-b446-4f53-b50a-cdee0e58ebbe",
   "metadata": {},
   "outputs": [],
   "source": [
    "# Distribuição Normal."
   ]
  },
  {
   "cell_type": "code",
   "execution_count": 2,
   "id": "813e44e4-bbd9-4591-8401-076e314e5256",
   "metadata": {},
   "outputs": [],
   "source": [
    "# Impontação da função norm\n",
    "\n",
    "from scipy.stats import norm"
   ]
  },
  {
   "cell_type": "code",
   "execution_count": 3,
   "id": "87abf0f5-3e51-4a91-86b1-c3aab3329ba6",
   "metadata": {},
   "outputs": [
    {
     "data": {
      "text/plain": [
       "0.15865525393145707"
      ]
     },
     "execution_count": 3,
     "metadata": {},
     "output_type": "execute_result"
    }
   ],
   "source": [
    "# Conjunto de objetos em uma cesta, a média é a 8 e o desvio padrão é 2.\n",
    "# Qual a probabilidade de tirar um objeto que o peso é menor que 6 kilos?\n",
    "\n",
    "norm.cdf(6, 8, 2)"
   ]
  },
  {
   "cell_type": "code",
   "execution_count": 4,
   "id": "91fbcbc4-b57b-4c8d-a568-f9b6d55202e1",
   "metadata": {},
   "outputs": [
    {
     "data": {
      "text/plain": [
       "0.8413447460685429"
      ]
     },
     "execution_count": 4,
     "metadata": {},
     "output_type": "execute_result"
    }
   ],
   "source": [
    "# Qual a probabilidade de tirar um objeto que o peso é maior que 6 kilos?\n",
    "\n",
    "norm.sf(6, 8, 2)"
   ]
  },
  {
   "cell_type": "code",
   "execution_count": 6,
   "id": "ec8e42ce-5818-4ada-9330-0b4f99e0ac3a",
   "metadata": {},
   "outputs": [
    {
     "data": {
      "text/plain": [
       "1.0"
      ]
     },
     "execution_count": 6,
     "metadata": {},
     "output_type": "execute_result"
    }
   ],
   "source": [
    "# Qual a probabilidade de tirar um objeto que o peso é menor que 6 ou maior que 10 quilos?\n",
    "\n",
    "norm.cdf(6, 8, 2) + norm.cdf( 10, 8, 2)"
   ]
  },
  {
   "cell_type": "code",
   "execution_count": 7,
   "id": "71320bf5-4ced-4cbc-a827-2e92145ca4bc",
   "metadata": {},
   "outputs": [
    {
     "data": {
      "text/plain": [
       "0.3413447460685429"
      ]
     },
     "execution_count": 7,
     "metadata": {},
     "output_type": "execute_result"
    }
   ],
   "source": [
    "# Qual a probabilidade de tirar um objeto que o peso é menor que 10 e maior que 8 quilos?\n",
    "\n",
    "norm.cdf(10, 8, 2) - norm.cdf( 8, 8, 2)"
   ]
  },
  {
   "cell_type": "code",
   "execution_count": null,
   "id": "43f76cad-f596-4970-b816-fbfe600be120",
   "metadata": {},
   "outputs": [],
   "source": []
  }
 ],
 "metadata": {
  "kernelspec": {
   "display_name": "Python 3",
   "language": "python",
   "name": "python3"
  },
  "language_info": {
   "codemirror_mode": {
    "name": "ipython",
    "version": 3
   },
   "file_extension": ".py",
   "mimetype": "text/x-python",
   "name": "python",
   "nbconvert_exporter": "python",
   "pygments_lexer": "ipython3",
   "version": "3.8.8"
  }
 },
 "nbformat": 4,
 "nbformat_minor": 5
}
