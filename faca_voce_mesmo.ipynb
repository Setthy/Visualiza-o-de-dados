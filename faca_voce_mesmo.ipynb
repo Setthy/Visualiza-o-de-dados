{
 "cells": [
  {
   "cell_type": "markdown",
   "id": "38e77373-8bb5-45a4-a33d-b3162d48ea28",
   "metadata": {},
   "source": [
    "# Faça você mesmo!"
   ]
  },
  {
   "cell_type": "code",
   "execution_count": 16,
   "id": "5d5bf4f8-881f-40ac-aefc-fa43d35fb302",
   "metadata": {},
   "outputs": [
    {
     "name": "stdout",
     "output_type": "stream",
     "text": [
      "Amplitude: 98\n"
     ]
    }
   ],
   "source": [
    "# 1 - Faça um programa que tenha uma função chamada amplitude.\n",
    "# A função deve receber uma lista e imprimir a amplitude.\n",
    "# Crie também um código para testar sua função.\n",
    "\n",
    "    \n",
    "def amplitude(vet):\n",
    "    print(\"Amplitude:\", max(vet) - min(vet))\n",
    "\n",
    "vetor = [12,23,45,2,100]    \n",
    "amplitude(vetor) \n",
    "  \n"
   ]
  },
  {
   "cell_type": "code",
   "execution_count": 24,
   "id": "c48c6851-5391-4c1f-93c2-1e5763a924e7",
   "metadata": {},
   "outputs": [
    {
     "name": "stdin",
     "output_type": "stream",
     "text": [
      "Digite uma palavra:  neto\n"
     ]
    },
    {
     "name": "stdout",
     "output_type": "stream",
     "text": [
      "n\n",
      "e\n",
      "t\n",
      "o\n"
     ]
    }
   ],
   "source": [
    "# 2 - Faça uma função que receba uma string e imprima esta string na forma vertical!\n",
    "# Por exemplo, se receber python, deve imprimir:\n",
    "# p\n",
    "# y\n",
    "# t\n",
    "# h\n",
    "# o\n",
    "# n\n",
    "\n",
    "# Dica: Uma string do python funciona como uma lista!\n",
    "# Crie também um código para testar sua função.\n",
    "\n",
    "user = input('Digite uma palavra: ')\n",
    "\n",
    "for n in range(0, len(user)):\n",
    "        print(user[n])\n",
    "        \n",
    "#print(user[n])\n"
   ]
  },
  {
   "cell_type": "code",
   "execution_count": 17,
   "id": "a8b0b169-a742-4818-b1d1-17fac3249370",
   "metadata": {},
   "outputs": [
    {
     "name": "stdout",
     "output_type": "stream",
     "text": [
      "-+-+-+-+-+-+-+-+-+-+-+-+-+-+-+-+\n",
      "\n",
      "Calculadora de precificação de cargas!\n",
      "\n",
      "-+-+-+-+-+-+-+-+-+-+-+-+-+-+-+-+\n"
     ]
    },
    {
     "name": "stdin",
     "output_type": "stream",
     "text": [
      "Qual o valor da carga?  10\n"
     ]
    },
    {
     "name": "stdout",
     "output_type": "stream",
     "text": [
      "\n",
      "-+-+-+-+-+-+-+-+-+-+-+-+-+-+-+-+\n",
      "\n",
      "O valor para envio da carga é de R$ 50,00.\n",
      "\n",
      "-+-+-+-+-+-+-+-+-+-+-+-+-+-+-+-+\n",
      "\n",
      "Tenha um ótimo dia!\n",
      "\n",
      "-+-+-+-+-+-+-+-+-+-+-+-+-+-+-+-+\n"
     ]
    }
   ],
   "source": [
    "# 3 - Crie um programa que leia o peso de uma carga em número inteiros.\n",
    "# Se o peso for até 10 kg, informe que o valor será de R$ 50,00.\n",
    "# Entre 11 kg e 20 kg, informe que o valor será de R$ 80.\n",
    "# Se for maior que 20 kg, informe que o transporte não é aceito.\n",
    "# Teste vários pesos.\n",
    "\n",
    "print('-+-+-+-+-+-+-+-+-+-+-+-+-+-+-+-+')\n",
    "print()\n",
    "print('Calculadora de precificação de cargas!')\n",
    "print()\n",
    "print('-+-+-+-+-+-+-+-+-+-+-+-+-+-+-+-+')\n",
    "\n",
    "peso = int(input('Qual o valor da carga? '))\n",
    "\n",
    "print()\n",
    "print('-+-+-+-+-+-+-+-+-+-+-+-+-+-+-+-+')\n",
    "print()\n",
    "\n",
    "if peso <= 10:\n",
    "    print('O valor para envio da carga é de R$ 50,00.')\n",
    "    \n",
    "elif peso >= 11 and peso <= 20:\n",
    "        print('O valor para envio da carga é de R$ 80,00.')\n",
    "        \n",
    "else:\n",
    "    peso >= 21\n",
    "    print('A carga excede o peso máximo permitido!')\n",
    "        \n",
    "print()\n",
    "print('-+-+-+-+-+-+-+-+-+-+-+-+-+-+-+-+')\n",
    "print()\n",
    "print('Tenha um ótimo dia!')\n",
    "print()\n",
    "print('-+-+-+-+-+-+-+-+-+-+-+-+-+-+-+-+')\n"
   ]
  },
  {
   "cell_type": "code",
   "execution_count": null,
   "id": "86587bb9-409a-438c-9165-6cb00cd631e9",
   "metadata": {},
   "outputs": [],
   "source": []
  }
 ],
 "metadata": {
  "kernelspec": {
   "display_name": "Python 3",
   "language": "python",
   "name": "python3"
  },
  "language_info": {
   "codemirror_mode": {
    "name": "ipython",
    "version": 3
   },
   "file_extension": ".py",
   "mimetype": "text/x-python",
   "name": "python",
   "nbconvert_exporter": "python",
   "pygments_lexer": "ipython3",
   "version": "3.8.8"
  }
 },
 "nbformat": 4,
 "nbformat_minor": 5
}
