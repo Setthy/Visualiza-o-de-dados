{
 "cells": [
  {
   "cell_type": "code",
   "execution_count": 1,
   "id": "319ef8d1-bbaa-4d35-bbfa-a3bcc5faf6c5",
   "metadata": {},
   "outputs": [],
   "source": [
    "# Graficos de dispersão!"
   ]
  },
  {
   "cell_type": "code",
   "execution_count": 2,
   "id": "7bbafd96-9a1b-400c-8763-655456874583",
   "metadata": {},
   "outputs": [],
   "source": [
    "# IMportar bibliotecas!"
   ]
  },
  {
   "cell_type": "code",
   "execution_count": 3,
   "id": "3fbb4972-739d-4308-b1c5-fd149e1a38a5",
   "metadata": {},
   "outputs": [],
   "source": [
    "import pandas as pd\n",
    "import matplotlib.pyplot as plt\n",
    "import seaborn as sns"
   ]
  },
  {
   "cell_type": "code",
   "execution_count": 4,
   "id": "38262069-d7f8-4b32-bf1a-715b37a816c3",
   "metadata": {},
   "outputs": [],
   "source": [
    "# Carregando os dados!"
   ]
  },
  {
   "cell_type": "code",
   "execution_count": 5,
   "id": "c2b89322-d201-4057-8de7-74469280cdca",
   "metadata": {},
   "outputs": [
    {
     "data": {
      "text/html": [
       "<div>\n",
       "<style scoped>\n",
       "    .dataframe tbody tr th:only-of-type {\n",
       "        vertical-align: middle;\n",
       "    }\n",
       "\n",
       "    .dataframe tbody tr th {\n",
       "        vertical-align: top;\n",
       "    }\n",
       "\n",
       "    .dataframe thead th {\n",
       "        text-align: right;\n",
       "    }\n",
       "</style>\n",
       "<table border=\"1\" class=\"dataframe\">\n",
       "  <thead>\n",
       "    <tr style=\"text-align: right;\">\n",
       "      <th></th>\n",
       "      <th>Girth</th>\n",
       "      <th>Height</th>\n",
       "      <th>Volume</th>\n",
       "    </tr>\n",
       "  </thead>\n",
       "  <tbody>\n",
       "    <tr>\n",
       "      <th>0</th>\n",
       "      <td>8.3</td>\n",
       "      <td>70</td>\n",
       "      <td>10.3</td>\n",
       "    </tr>\n",
       "    <tr>\n",
       "      <th>1</th>\n",
       "      <td>8.6</td>\n",
       "      <td>65</td>\n",
       "      <td>10.3</td>\n",
       "    </tr>\n",
       "    <tr>\n",
       "      <th>2</th>\n",
       "      <td>8.8</td>\n",
       "      <td>63</td>\n",
       "      <td>10.2</td>\n",
       "    </tr>\n",
       "    <tr>\n",
       "      <th>3</th>\n",
       "      <td>10.5</td>\n",
       "      <td>72</td>\n",
       "      <td>16.4</td>\n",
       "    </tr>\n",
       "    <tr>\n",
       "      <th>4</th>\n",
       "      <td>10.7</td>\n",
       "      <td>81</td>\n",
       "      <td>18.8</td>\n",
       "    </tr>\n",
       "  </tbody>\n",
       "</table>\n",
       "</div>"
      ],
      "text/plain": [
       "   Girth  Height  Volume\n",
       "0    8.3      70    10.3\n",
       "1    8.6      65    10.3\n",
       "2    8.8      63    10.2\n",
       "3   10.5      72    16.4\n",
       "4   10.7      81    18.8"
      ]
     },
     "execution_count": 5,
     "metadata": {},
     "output_type": "execute_result"
    }
   ],
   "source": [
    "base = pd.read_csv('trees.csv')\n",
    "base.head()"
   ]
  },
  {
   "cell_type": "code",
   "execution_count": 6,
   "id": "a3e26d6d-92d8-459a-a160-a201b359402c",
   "metadata": {},
   "outputs": [],
   "source": [
    "# Grafico de dispersão considerando o volume e a dispersão!"
   ]
  },
  {
   "cell_type": "code",
   "execution_count": 9,
   "id": "7a5f6da2-ee7a-4f87-a4ea-4018f9bd9510",
   "metadata": {},
   "outputs": [
    {
     "data": {
      "text/plain": [
       "Text(0, 0.5, 'Circunferência')"
      ]
     },
     "execution_count": 9,
     "metadata": {},
     "output_type": "execute_result"
    },
    {
     "data": {
      "image/png": "[encoded data removed]",
      "text/plain": [
       "<Figure size 432x288 with 1 Axes>"
      ]
     },
     "metadata": {
      "needs_background": "light"
     },
     "output_type": "display_data"
    }
   ],
   "source": [
    "plt.scatter(base.Girth, base.Volume, color = 'blue', facecolors = 'none', marker = '*')\n",
    "plt.title('Árvores')\n",
    "plt.xlabel('Volume')\n",
    "plt.ylabel('Circunferência')"
   ]
  },
  {
   "cell_type": "code",
   "execution_count": 8,
   "id": "9e51908b-bb08-438b-b5dd-d1a2f5fdb916",
   "metadata": {},
   "outputs": [],
   "source": [
    "# Grafico de linha considerando o volume e o atributo 'girth'!"
   ]
  },
  {
   "cell_type": "code",
   "execution_count": 10,
   "id": "86767e36-2b5d-4b13-bab2-4a57d69d8530",
   "metadata": {},
   "outputs": [
    {
     "data": {
      "text/plain": [
       "Text(0, 0.5, 'Circunferência')"
      ]
     },
     "execution_count": 10,
     "metadata": {},
     "output_type": "execute_result"
    },
    {
     "data": {
      "image/png": "[encoded data removed]",
      "text/plain": [
       "<Figure size 432x288 with 1 Axes>"
      ]
     },
     "metadata": {
      "needs_background": "light"
     },
     "output_type": "display_data"
    }
   ],
   "source": [
    "plt.plot(base.Girth, base.Volume)\n",
    "plt.title('Árvores')\n",
    "plt.xlabel('Volumne')\n",
    "plt.ylabel('Circunferência')"
   ]
  },
  {
   "cell_type": "code",
   "execution_count": 11,
   "id": "b3ceb45b-3d9e-496f-8ffd-075bb000b9e0",
   "metadata": {},
   "outputs": [],
   "source": [
    "# Gráfico de dispersão com 'afastamento' dos dados (jitter)!\n",
    "# fit_reg linha de tendência!"
   ]
  },
  {
   "cell_type": "code",
   "execution_count": 12,
   "id": "ce86e1f9-253e-4a3d-a991-41b0a8657034",
   "metadata": {},
   "outputs": [
    {
     "name": "stderr",
     "output_type": "stream",
     "text": [
      "C:\\Users\\netto\\anaconda3\\lib\\site-packages\\seaborn\\_decorators.py:36: FutureWarning: Pass the following variables as keyword args: x, y. From version 0.12, the only valid positional argument will be `data`, and passing other arguments without an explicit keyword will result in an error or misinterpretation.\n",
      "  warnings.warn(\n"
     ]
    },
    {
     "data": {
      "text/plain": [
       "<AxesSubplot:xlabel='Girth', ylabel='Volume'>"
      ]
     },
     "execution_count": 12,
     "metadata": {},
     "output_type": "execute_result"
    },
    {
     "data": {
      "image/png": "[encoded data removed]",
      "text/plain": [
       "<Figure size 432x288 with 1 Axes>"
      ]
     },
     "metadata": {
      "needs_background": "light"
     },
     "output_type": "display_data"
    }
   ],
   "source": [
    "sns.regplot(base.Girth, base.Volume, data = base, x_jitter = 0.3, fit_reg = False)"
   ]
  },
  {
   "cell_type": "code",
   "execution_count": null,
   "id": "70fc9f09-34e4-47c5-a7d4-e8adbc001b28",
   "metadata": {},
   "outputs": [],
   "source": []
  }
 ],
 "metadata": {
  "kernelspec": {
   "display_name": "Python 3",
   "language": "python",
   "name": "python3"
  },
  "language_info": {
   "codemirror_mode": {
    "name": "ipython",
    "version": 3
   },
   "file_extension": ".py",
   "mimetype": "text/x-python",
   "name": "python",
   "nbconvert_exporter": "python",
   "pygments_lexer": "ipython3",
   "version": "3.8.8"
  }
 },
 "nbformat": 4,
 "nbformat_minor": 5
}
